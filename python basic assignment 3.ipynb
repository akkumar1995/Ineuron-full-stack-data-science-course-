{
  "cells": [
    {
      "cell_type": "markdown",
      "source": [
        "1 ) Why are functions advantageous to have in your programs?\n",
        "\n",
        "\n",
        "ANS : Functions reduce the need for duplicate code. This makes programs shorter, easier to read, and easier to update."
      ],
      "metadata": {
        "id": "d-jePgZW7Zpb"
      }
    },
    {
      "cell_type": "markdown",
      "source": [
        "2 ) When does the code in a function run: when it&#39;s specified or when it&#39;s called? \n",
        "\n",
        "\n",
        "ANS : The code in a function runs when its called "
      ],
      "metadata": {
        "id": "4dapv7dM7oMo"
      }
    },
    {
      "cell_type": "markdown",
      "source": [
        "3) What statement creates a function? \n",
        "\n",
        "\n",
        "ANS : The def statement creates a function "
      ],
      "metadata": {
        "id": "QIxSoHBM7z6r"
      }
    },
    {
      "cell_type": "markdown",
      "source": [
        "4 ) What is the difference between a function and a function call?\n",
        "\n",
        "\n",
        "ANS : A function is the def statement and the code inside it . A function call executes the code inside the function and returns the function output "
      ],
      "metadata": {
        "id": "QlaN79Ns79HA"
      }
    },
    {
      "cell_type": "markdown",
      "source": [
        "5 ) How many global scopes are there in a Python program? How many local scopes? \n",
        "\n",
        "\n",
        "ANS : There is one global scope, and a local scope is created whenever a function is called. "
      ],
      "metadata": {
        "id": "O5_AppxO8dni"
      }
    },
    {
      "cell_type": "markdown",
      "source": [
        "6 ) What happens to variables in a local scope when the function call returns?\n",
        "\n",
        "\n",
        "ANS : When function call returns the local scope doesnot exists and its variables are deleted "
      ],
      "metadata": {
        "id": "fZXwpC-Q8rO4"
      }
    },
    {
      "cell_type": "markdown",
      "source": [
        "7) What is the concept of a return value? Is it possible to have a return value in an expression?\n",
        "\n",
        "\n",
        "ANS : Return value  returns the outpwut of the function and it can return as an expression also "
      ],
      "metadata": {
        "id": "P0BpY8z489qo"
      }
    },
    {
      "cell_type": "markdown",
      "source": [
        "8 ) If a function does not have a return statement, what is the return value of a call to that function?\n",
        "\n",
        "\n",
        "ANS : For no return statement , the return value is none"
      ],
      "metadata": {
        "id": "FgAG9rFr-Qhm"
      }
    },
    {
      "cell_type": "markdown",
      "source": [
        "9) How do you make a function variable refer to the global variable?\n",
        "\n",
        "\n",
        "ANS : Global statement needs to be used for making function variable refer to the global variable"
      ],
      "metadata": {
        "id": "PIXLeAkb-pVR"
      }
    },
    {
      "cell_type": "markdown",
      "source": [
        "10 ) What is the data type of None?\n",
        "\n",
        "ANS : NoneType"
      ],
      "metadata": {
        "id": "XYT67FUu-551"
      }
    },
    {
      "cell_type": "markdown",
      "source": [
        "11 ) What does the sentence import areallyourpetsnamederic do? "
      ],
      "metadata": {
        "id": "sp4v5Zgi_9iy"
      }
    },
    {
      "cell_type": "code",
      "source": [
        "import  areallyourpetsnamederic"
      ],
      "metadata": {
        "id": "T14pbAtMADyS",
        "outputId": "a6ed2169-2fd2-460c-8912-b6b459f98088",
        "colab": {
          "base_uri": "https://localhost:8080/",
          "height": 312
        }
      },
      "execution_count": 3,
      "outputs": [
        {
          "output_type": "error",
          "ename": "ModuleNotFoundError",
          "evalue": "ignored",
          "traceback": [
            "\u001b[0;31m---------------------------------------------------------------------------\u001b[0m",
            "\u001b[0;31mModuleNotFoundError\u001b[0m                       Traceback (most recent call last)",
            "\u001b[0;32m<ipython-input-3-848d9e7eab14>\u001b[0m in \u001b[0;36m<module>\u001b[0;34m()\u001b[0m\n\u001b[0;32m----> 1\u001b[0;31m \u001b[0;32mimport\u001b[0m  \u001b[0mareallyourpetsnamederic\u001b[0m\u001b[0;34m\u001b[0m\u001b[0;34m\u001b[0m\u001b[0m\n\u001b[0m",
            "\u001b[0;31mModuleNotFoundError\u001b[0m: No module named 'areallyourpetsnamederic'",
            "",
            "\u001b[0;31m---------------------------------------------------------------------------\u001b[0;32m\nNOTE: If your import is failing due to a missing package, you can\nmanually install dependencies using either !pip or !apt.\n\nTo view examples of installing some common dependencies, click the\n\"Open Examples\" button below.\n\u001b[0;31m---------------------------------------------------------------------------\u001b[0m\n"
          ],
          "errorDetails": {
            "actions": [
              {
                "action": "open_url",
                "actionText": "Open Examples",
                "url": "/notebooks/snippets/importing_libraries.ipynb"
              }
            ]
          }
        }
      ]
    },
    {
      "cell_type": "markdown",
      "source": [
        "12) If you had a bacon() feature in a spam module, what would you call it after importing spam? \n",
        "\n",
        "\n",
        "ANS : spam.bacon()"
      ],
      "metadata": {
        "id": "Try-ENy_AIgw"
      }
    },
    {
      "cell_type": "markdown",
      "source": [
        "13 ) What can you do to save a programme from crashing if it encounters an error?\n",
        "\n",
        "\n",
        "ANS : Using try clause on the suspected code"
      ],
      "metadata": {
        "id": "nmhhGu7vAT9o"
      }
    },
    {
      "cell_type": "markdown",
      "source": [
        "14 ) What is the purpose of the try clause? What is the purpose of the except clause? \n",
        "\n",
        "\n",
        "ANS : The suspected code is kept in try clause , if it gives and error , it goes to except clause "
      ],
      "metadata": {
        "id": "mClN4k2_AjV4"
      }
    }
  ],
  "metadata": {
    "colab": {
      "collapsed_sections": [],
      "name": "Welcome To Colaboratory",
      "provenance": []
    },
    "kernelspec": {
      "display_name": "Python 3",
      "name": "python3"
    }
  },
  "nbformat": 4,
  "nbformat_minor": 0
}