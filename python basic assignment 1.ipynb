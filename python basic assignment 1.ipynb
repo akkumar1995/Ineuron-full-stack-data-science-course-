{
  "cells": [
    {
      "cell_type": "markdown",
      "source": [
        "1)In the below elements which of them are values or an expression? eg:- values can be\n",
        "integer or string and expressions will be mathematical operators.\n",
        "*\n",
        "&#39;hello&#39;\n",
        "-87.8\n",
        "-\n",
        "/\n",
        "+\n",
        "6\n",
        "\n",
        "\n",
        "ANS : Hello , -87.8 , 6 are values  and  *,-,/,+ are expressions"
      ],
      "metadata": {
        "id": "iU0zy6g2orQG"
      }
    },
    {
      "cell_type": "markdown",
      "source": [
        "2) What is the difference between string and variable?\n",
        "\n",
        "\n",
        "ANS : A variable  as an identifier to store a value in a memory location and to manipulate it if needed. A string is anything assigned to a variable using quotes (single or double).\n",
        "\n"
      ],
      "metadata": {
        "id": "tlSZJzdlqmUP"
      }
    },
    {
      "cell_type": "markdown",
      "source": [
        "3)Describe three different data types.\n",
        "\n",
        "\n",
        "ANS : int : stores integer values \n",
        "      float : stores integer with decimal values \n",
        "      string : Anything assigned to variable in quotes ,mostly alphabets or  alphanumeric value "
      ],
      "metadata": {
        "id": "yUsxn3sHrDxt"
      }
    },
    {
      "cell_type": "markdown",
      "source": [
        "4) What is an expression made up of? What do all expressions do?\n",
        "\n",
        "\n",
        "ANS : Expression is made up of  variables ,operators and methods applied on them . Expressions perform the calculations on the input to get the desired output."
      ],
      "metadata": {
        "id": "uiJZWWHlrjT2"
      }
    },
    {
      "cell_type": "markdown",
      "source": [
        "5) This assignment statements, like spam = 10. What is the difference between an\n",
        "expression and a statement? \n",
        "\n",
        "ANS : Expression is made up of variables ,operators and methods applied on them . Expressions perform the calculations on the input to get the desired output. Whereas Statement is unit of execution or assignment and doesnot return anything "
      ],
      "metadata": {
        "id": "GjxxoIL9sPhN"
      }
    },
    {
      "cell_type": "markdown",
      "source": [
        "6)After running the following code, what does the variable bacon contain?\n",
        "bacon = 22\n",
        "bacon + 1"
      ],
      "metadata": {
        "id": "H5giomo4snvs"
      }
    },
    {
      "cell_type": "code",
      "source": [
        "bacon = 22\n",
        "bacon + 1\n",
        "print(bacon)\n"
      ],
      "metadata": {
        "id": "ZJBvU6UfsyxM",
        "outputId": "0a0e3880-7429-42c2-c6f5-d8f2508aae99",
        "colab": {
          "base_uri": "https://localhost:8080/"
        }
      },
      "execution_count": 10,
      "outputs": [
        {
          "output_type": "stream",
          "name": "stdout",
          "text": [
            "22\n"
          ]
        }
      ]
    },
    {
      "cell_type": "markdown",
      "source": [
        "7) What should the values of the following two terms be?\n",
        "'spam'+'spamspam', 'spam'*3"
      ],
      "metadata": {
        "id": "uhWRtp9KtHGT"
      }
    },
    {
      "cell_type": "code",
      "source": [
        "print('spam'+'spamspam') \n",
        "print( 'spam'*3)\n"
      ],
      "metadata": {
        "id": "ikpHx8tctZBM",
        "outputId": "fd1a591f-8184-48ef-9f43-d441fa219f32",
        "colab": {
          "base_uri": "https://localhost:8080/"
        }
      },
      "execution_count": 12,
      "outputs": [
        {
          "output_type": "stream",
          "name": "stdout",
          "text": [
            "spamspamspam\n",
            "spamspamspam\n"
          ]
        }
      ]
    },
    {
      "cell_type": "markdown",
      "source": [
        "8) Why is eggs a valid variable name while 100 is invalid?\n",
        "\n",
        "ANS : Numbers cannot be used as varibale name "
      ],
      "metadata": {
        "id": "awPunQOvtgoj"
      }
    },
    {
      "cell_type": "markdown",
      "source": [
        "9) What three functions can be used to get the integer, floating-point number, or string\n",
        "version of a value? \n",
        "\n",
        "\n",
        "ANS : int() - to get interger \n",
        "      float() - to get floating-point number\n",
        "      str() - to get string version of a value"
      ],
      "metadata": {
        "id": "m7l3anDxtsOj"
      }
    },
    {
      "cell_type": "markdown",
      "source": [
        "10) Why does this expression cause an error? How can you fix it?\n",
        "'I have eaten' + 99 + 'burritos'"
      ],
      "metadata": {
        "id": "y3jBb9oet_2T"
      }
    },
    {
      "cell_type": "code",
      "source": [
        " 'I have eaten ' + str(99) + ' burritos'"
      ],
      "metadata": {
        "id": "l--Pwt1CugDy",
        "outputId": "9aa05bd5-0e37-4b40-ee10-c2714415fbec",
        "colab": {
          "base_uri": "https://localhost:8080/",
          "height": 36
        }
      },
      "execution_count": 15,
      "outputs": [
        {
          "output_type": "execute_result",
          "data": {
            "application/vnd.google.colaboratory.intrinsic+json": {
              "type": "string"
            },
            "text/plain": [
              "'I have eaten 99 burritos'"
            ]
          },
          "metadata": {},
          "execution_count": 15
        }
      ]
    }
  ],
  "metadata": {
    "colab": {
      "collapsed_sections": [],
      "name": "Welcome To Colaboratory",
      "provenance": []
    },
    "kernelspec": {
      "display_name": "Python 3",
      "name": "python3"
    }
  },
  "nbformat": 4,
  "nbformat_minor": 0
}