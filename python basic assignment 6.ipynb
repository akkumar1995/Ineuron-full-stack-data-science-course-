{
  "nbformat": 4,
  "nbformat_minor": 0,
  "metadata": {
    "colab": {
      "name": "colab practise ",
      "provenance": [],
      "collapsed_sections": []
    },
    "kernelspec": {
      "name": "python3",
      "display_name": "Python 3"
    },
    "language_info": {
      "name": "python"
    }
  },
  "cells": [
    {
      "cell_type": "markdown",
      "source": [
        "1) What are escape characters, and how do you use them? \n",
        "\n",
        "ANS : To enter illegal characters in a string we use escape character . '\\' ( backslash) followed by the character is escape character "
      ],
      "metadata": {
        "id": "SysS8Tt7bbrf"
      }
    },
    {
      "cell_type": "markdown",
      "source": [
        "2 )  What do the escape characters n and t stand for?\n",
        "\n",
        "ANS : \\n  : New line \n",
        "      \\t : Tab "
      ],
      "metadata": {
        "id": "tGJmdC02bunP"
      }
    },
    {
      "cell_type": "markdown",
      "source": [
        "3 ) What is the way to include backslash characters in a string? \n",
        "\n",
        "\n",
        "ANS : Backslash : \\\\"
      ],
      "metadata": {
        "id": "lenF4mHHb8Te"
      }
    },
    {
      "cell_type": "markdown",
      "source": [
        "4 ) The string \"Howl's Moving Castle\" is a correct value. Why isn't the single quote character in the\n",
        "word Howl's not escaped a problem? \n",
        "\n",
        "\n",
        "ANS : The string is enclosed in double quotes :\"\" , hence Howl's  single quote (')  doesnot cause error "
      ],
      "metadata": {
        "id": "ixwjUX1rcMK7"
      }
    },
    {
      "cell_type": "markdown",
      "source": [
        "5 ) How do you write a string of newlines if you don't want to use the n character?\n",
        "\n",
        "\n",
        "ANS : use print statement every time for each string "
      ],
      "metadata": {
        "id": "hcJDsqU-dR_S"
      }
    },
    {
      "cell_type": "markdown",
      "source": [
        "6 ) What are the values of the given expressions? "
      ],
      "metadata": {
        "id": "WV9N7zmjeQBi"
      }
    },
    {
      "cell_type": "code",
      "source": [
        "print('Hello, world!'[1])\n",
        "print('Hello, world!'[0:5])\n",
        "print('Hello, world'[:5])\n",
        "print('Hello, world'[3:])"
      ],
      "metadata": {
        "colab": {
          "base_uri": "https://localhost:8080/"
        },
        "id": "Z4B1_MITeRUn",
        "outputId": "6bfd50d0-ed80-42a5-af58-5a53ddaa3fa5"
      },
      "execution_count": 14,
      "outputs": [
        {
          "output_type": "stream",
          "name": "stdout",
          "text": [
            "e\n",
            "Hello\n",
            "Hello\n",
            "lo, world\n"
          ]
        }
      ]
    },
    {
      "cell_type": "markdown",
      "source": [
        "7) What are the values of the following expressions?"
      ],
      "metadata": {
        "id": "OYxcnL75eyt-"
      }
    },
    {
      "cell_type": "code",
      "source": [
        "print('Hello'.upper())\n",
        "print('Hello'.upper().isupper())\n",
        "print('Hello'.upper().lower())"
      ],
      "metadata": {
        "colab": {
          "base_uri": "https://localhost:8080/"
        },
        "id": "zXLuov5-e3RN",
        "outputId": "2009cdea-8286-49ca-db07-24aaee3a9e93"
      },
      "execution_count": 15,
      "outputs": [
        {
          "output_type": "stream",
          "name": "stdout",
          "text": [
            "HELLO\n",
            "True\n",
            "hello\n"
          ]
        }
      ]
    },
    {
      "cell_type": "markdown",
      "source": [
        "8) What are the values of the following expressions? "
      ],
      "metadata": {
        "id": "Yb7aUaxwgqwY"
      }
    },
    {
      "cell_type": "code",
      "source": [
        "a = 'Remember, remember, the fifth of July.'.split()\n",
        "a"
      ],
      "metadata": {
        "colab": {
          "base_uri": "https://localhost:8080/"
        },
        "id": "SZJ3alCggsEF",
        "outputId": "fed45963-a14f-43bc-d3b9-0e8a2e98bb7a"
      },
      "execution_count": 22,
      "outputs": [
        {
          "output_type": "execute_result",
          "data": {
            "text/plain": [
              "['Remember,', 'remember,', 'the', 'fifth', 'of', 'July.']"
            ]
          },
          "metadata": {},
          "execution_count": 22
        }
      ]
    },
    {
      "cell_type": "code",
      "source": [
        "a = '-'.join(a)\n",
        "print(a)"
      ],
      "metadata": {
        "colab": {
          "base_uri": "https://localhost:8080/"
        },
        "id": "n771fTbvh1HI",
        "outputId": "48f71107-e910-4783-a92e-888f800c44fb"
      },
      "execution_count": 23,
      "outputs": [
        {
          "output_type": "stream",
          "name": "stdout",
          "text": [
            "Remember,-remember,-the-fifth-of-July.\n"
          ]
        }
      ]
    },
    {
      "cell_type": "markdown",
      "source": [
        "9) What are the methods for right-justifying, left-justifying, and centering a string?\n",
        "\n",
        "\n",
        "ANS : string.rjust() , string.ljust() and string.center() can be used respctively "
      ],
      "metadata": {
        "id": "dKSRjCbEiEIn"
      }
    },
    {
      "cell_type": "markdown",
      "source": [
        "10 )  What is the best way to remove whitespace characters from the start or end?\n",
        "\n",
        "\n",
        "ANS : string.strip() function can be used "
      ],
      "metadata": {
        "id": "oxgnh5Nhj75c"
      }
    }
  ]
}