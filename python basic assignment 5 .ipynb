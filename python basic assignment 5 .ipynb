{
  "nbformat": 4,
  "nbformat_minor": 0,
  "metadata": {
    "colab": {
      "name": "colab practise ",
      "provenance": [],
      "collapsed_sections": []
    },
    "kernelspec": {
      "name": "python3",
      "display_name": "Python 3"
    },
    "language_info": {
      "name": "python"
    }
  },
  "cells": [
    {
      "cell_type": "markdown",
      "source": [
        "1 ) What does an empty dictionary's code look like?\n",
        "\n",
        "ANS : {}"
      ],
      "metadata": {
        "id": "BLCFwDKHXWLn"
      }
    },
    {
      "cell_type": "markdown",
      "source": [
        "2 ) What is the value of a dictionary value with the key &'foo' and the value 42? \n",
        "\n",
        "ANS:  {'foo':42}\n"
      ],
      "metadata": {
        "id": "-u7GE6jeXkbp"
      }
    },
    {
      "cell_type": "markdown",
      "source": [
        "3 ) What is the most significant distinction between a dictionary and a list? \n",
        "\n",
        "\n",
        "\n",
        "ANS : Items stored in dictionary in key value pair and unordered way where as values are stored in list in an ordered way "
      ],
      "metadata": {
        "id": "WD4cj6y-X29t"
      }
    },
    {
      "cell_type": "markdown",
      "source": [
        "4 ) What happens if you try to access spam['foo'] if spam is {'bar': 100}?"
      ],
      "metadata": {
        "id": "v9gKFfQfYHw-"
      }
    },
    {
      "cell_type": "code",
      "source": [
        "spam = {'bar': 100}\n",
        "spam['foo']"
      ],
      "metadata": {
        "colab": {
          "base_uri": "https://localhost:8080/",
          "height": 187
        },
        "id": "jk7l_MCDYTmp",
        "outputId": "dfb174cc-2c72-4bf0-f3d0-a1fa3ec59b7a"
      },
      "execution_count": 10,
      "outputs": [
        {
          "output_type": "error",
          "ename": "KeyError",
          "evalue": "ignored",
          "traceback": [
            "\u001b[0;31m---------------------------------------------------------------------------\u001b[0m",
            "\u001b[0;31mKeyError\u001b[0m                                  Traceback (most recent call last)",
            "\u001b[0;32m<ipython-input-10-56a8e50c7ff8>\u001b[0m in \u001b[0;36m<module>\u001b[0;34m()\u001b[0m\n\u001b[1;32m      1\u001b[0m \u001b[0mspam\u001b[0m \u001b[0;34m=\u001b[0m \u001b[0;34m{\u001b[0m\u001b[0;34m'bar'\u001b[0m\u001b[0;34m:\u001b[0m \u001b[0;36m100\u001b[0m\u001b[0;34m}\u001b[0m\u001b[0;34m\u001b[0m\u001b[0;34m\u001b[0m\u001b[0m\n\u001b[0;32m----> 2\u001b[0;31m \u001b[0mspam\u001b[0m\u001b[0;34m[\u001b[0m\u001b[0;34m'foo'\u001b[0m\u001b[0;34m]\u001b[0m\u001b[0;34m\u001b[0m\u001b[0;34m\u001b[0m\u001b[0m\n\u001b[0m",
            "\u001b[0;31mKeyError\u001b[0m: 'foo'"
          ]
        }
      ]
    },
    {
      "cell_type": "markdown",
      "source": [
        "5) If a dictionary is stored in spam, what is the difference between the expressions 'cat' in spam and\n",
        "'cat' in spam.keys()?\n",
        "\n",
        "\n",
        "ANS : No difference , both will check wheather 'cat' exists as key in the dictionary "
      ],
      "metadata": {
        "id": "NSZRMrDiYbkI"
      }
    },
    {
      "cell_type": "markdown",
      "source": [
        "6) If a dictionary is stored in spam, what is the difference between the expressions 'cat' in spam and\n",
        "'cat' in spam.values()?\n",
        "\n",
        "\n",
        "ANS : 'cat' in spam will check if there is a key named 'cat' in the dictionary where as 'cat' in spam.values() will check if there is a value of 'cat' for one of the keys in dictionary "
      ],
      "metadata": {
        "id": "Bu-L5bdJZIgA"
      }
    },
    {
      "cell_type": "markdown",
      "source": [
        "7) What is a shortcut for the following code?\n",
        "\n",
        "if 'color' not in spam:\n",
        "spam['color'] = 'black'"
      ],
      "metadata": {
        "id": "nKaznv41ZwTo"
      }
    },
    {
      "cell_type": "code",
      "source": [
        "spam.setdefault('color','black')\n",
        "spam"
      ],
      "metadata": {
        "colab": {
          "base_uri": "https://localhost:8080/"
        },
        "id": "Td6mJ73JZ3RL",
        "outputId": "027cdeef-f4b5-4239-ea14-9020af81e704"
      },
      "execution_count": 11,
      "outputs": [
        {
          "output_type": "execute_result",
          "data": {
            "text/plain": [
              "{'bar': 100, 'color': 'black'}"
            ]
          },
          "metadata": {},
          "execution_count": 11
        }
      ]
    },
    {
      "cell_type": "markdown",
      "source": [
        "8) How do you \"pretty print\" dictionary values using which module and function? \n",
        "\n",
        "\n",
        "ANS : pprint() "
      ],
      "metadata": {
        "id": "IPPesHZVaJJH"
      }
    }
  ]
}