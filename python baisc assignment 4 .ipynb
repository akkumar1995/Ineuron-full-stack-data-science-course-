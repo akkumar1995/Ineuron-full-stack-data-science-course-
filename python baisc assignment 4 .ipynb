{
  "cells": [
    {
      "cell_type": "markdown",
      "source": [
        "1 ) What exactly is []? \n",
        "\n",
        "ANS : It is an empty list "
      ],
      "metadata": {
        "id": "OjpDLwzxDd2F"
      }
    },
    {
      "cell_type": "markdown",
      "source": [
        "2 ) In a list of values stored in a variable called spam, how would you assign the value 'hello' as the\n",
        "third value? (Assume [2, 4, 6, 8, 10] are in spam.)"
      ],
      "metadata": {
        "id": "MrDi0_lUEI0u"
      }
    },
    {
      "cell_type": "code",
      "source": [
        "spam = [2,4,6,8,10]\n",
        "spam[2] = 'hello'\n",
        "spam"
      ],
      "metadata": {
        "id": "sZSsR6GjEUY3",
        "outputId": "c91b79f0-4d42-4310-ab4e-94a04323408a",
        "colab": {
          "base_uri": "https://localhost:8080/"
        }
      },
      "execution_count": 4,
      "outputs": [
        {
          "output_type": "execute_result",
          "data": {
            "text/plain": [
              "[2, 4, 'hello', 8, 10]"
            ]
          },
          "metadata": {},
          "execution_count": 4
        }
      ]
    },
    {
      "cell_type": "markdown",
      "source": [
        "3 ) What is the value of spam[int(int('3' * 2) / 11)]?"
      ],
      "metadata": {
        "id": "mDtxTk2CEekl"
      }
    },
    {
      "cell_type": "code",
      "source": [
        "spam = ['a','b','c','d']\n"
      ],
      "metadata": {
        "id": "P_itQ_NnE7-m"
      },
      "execution_count": 8,
      "outputs": []
    },
    {
      "cell_type": "code",
      "source": [
        "spam[int(int('3' * 2) / 11)]"
      ],
      "metadata": {
        "id": "SUR30PB0FvNY",
        "outputId": "16762f78-e92b-4767-ff23-7ca1b66d8c90",
        "colab": {
          "base_uri": "https://localhost:8080/",
          "height": 36
        }
      },
      "execution_count": 9,
      "outputs": [
        {
          "output_type": "execute_result",
          "data": {
            "application/vnd.google.colaboratory.intrinsic+json": {
              "type": "string"
            },
            "text/plain": [
              "'d'"
            ]
          },
          "metadata": {},
          "execution_count": 9
        }
      ]
    },
    {
      "cell_type": "code",
      "source": [
        "#  4) What is the value of spam[-1]?\n",
        "\n",
        "spam[-1]"
      ],
      "metadata": {
        "id": "JzE0r6jpF0Mu",
        "outputId": "95d492ab-9749-4283-bb7f-d80b6ca96be0",
        "colab": {
          "base_uri": "https://localhost:8080/",
          "height": 36
        }
      },
      "execution_count": 10,
      "outputs": [
        {
          "output_type": "execute_result",
          "data": {
            "application/vnd.google.colaboratory.intrinsic+json": {
              "type": "string"
            },
            "text/plain": [
              "'d'"
            ]
          },
          "metadata": {},
          "execution_count": 10
        }
      ]
    },
    {
      "cell_type": "code",
      "source": [
        "#  5) What is the value of spam[:2]? \n",
        "spam[:2]\n"
      ],
      "metadata": {
        "id": "yfkDXUcpF84e",
        "outputId": "8027407a-bf2b-4791-c7d1-0f937ae5a9a2",
        "colab": {
          "base_uri": "https://localhost:8080/"
        }
      },
      "execution_count": 11,
      "outputs": [
        {
          "output_type": "execute_result",
          "data": {
            "text/plain": [
              "['a', 'b']"
            ]
          },
          "metadata": {},
          "execution_count": 11
        }
      ]
    },
    {
      "cell_type": "code",
      "source": [
        " # 6) \n",
        " bacon = [3.14,'cat',11,'cat',True]\n",
        " bacon.index('cat')"
      ],
      "metadata": {
        "id": "OYUl9d_3JQ_R",
        "outputId": "78a87cb9-e72a-4b24-f29f-c9904f9aa936",
        "colab": {
          "base_uri": "https://localhost:8080/"
        }
      },
      "execution_count": 12,
      "outputs": [
        {
          "output_type": "execute_result",
          "data": {
            "text/plain": [
              "1"
            ]
          },
          "metadata": {},
          "execution_count": 12
        }
      ]
    },
    {
      "cell_type": "code",
      "source": [
        "# 7) How does bacon.append(99) change the look of the list value in bacon?\n",
        "bacon.append(99)\n",
        "bacon\n"
      ],
      "metadata": {
        "id": "c-6STIiCJoOE",
        "outputId": "39d03371-7e53-473d-afeb-7859a7373af2",
        "colab": {
          "base_uri": "https://localhost:8080/"
        }
      },
      "execution_count": 13,
      "outputs": [
        {
          "output_type": "execute_result",
          "data": {
            "text/plain": [
              "[3.14, 'cat', 11, 'cat', True, 99]"
            ]
          },
          "metadata": {},
          "execution_count": 13
        }
      ]
    },
    {
      "cell_type": "code",
      "source": [
        "# 8 ) How does bacon.remove('cat') change the look of the list in bacon? \n",
        "\n",
        "bacon.remove('cat')\n"
      ],
      "metadata": {
        "id": "5Hf7nZE7JxPE"
      },
      "execution_count": 14,
      "outputs": []
    },
    {
      "cell_type": "code",
      "source": [
        "bacon \n"
      ],
      "metadata": {
        "id": "cKLO6naTJ8uf",
        "outputId": "b1a655db-95fe-4e19-dcc6-f7be4170ea77",
        "colab": {
          "base_uri": "https://localhost:8080/"
        }
      },
      "execution_count": 15,
      "outputs": [
        {
          "output_type": "execute_result",
          "data": {
            "text/plain": [
              "[3.14, 11, 'cat', True, 99]"
            ]
          },
          "metadata": {},
          "execution_count": 15
        }
      ]
    },
    {
      "cell_type": "markdown",
      "source": [
        "9 ) What are the list concatenation and list replication operators? \n",
        "\n",
        "\n",
        "ANS : The operator for list concatenation is +, while the operator for replication is *"
      ],
      "metadata": {
        "id": "72HSVsc9KCPH"
      }
    },
    {
      "cell_type": "markdown",
      "source": [
        "10 ) What is difference between the list methods append() and insert()?\n",
        "\n",
        "\n",
        "ANS : append() will add values at end of list  and insert() can add values anywhere in the list "
      ],
      "metadata": {
        "id": "-7qzJXz1KPt_"
      }
    },
    {
      "cell_type": "markdown",
      "source": [
        "11) What are the two methods for removing items from a list? \n",
        "\n",
        "\n",
        "ANS : The del statement and remove() can be used "
      ],
      "metadata": {
        "id": "IaWLh1-9KfJE"
      }
    },
    {
      "cell_type": "markdown",
      "source": [
        "12 ) Describe how list values and string values are identical. \n",
        "\n",
        "\n",
        "ANS : Both list values and string values can be used in len() , have indexes and can be sliced , concatenated and replicated "
      ],
      "metadata": {
        "id": "S69w4gWYKpik"
      }
    },
    {
      "cell_type": "markdown",
      "source": [
        "13 ) What is  the difference between tuples and lists? \n",
        "\n",
        "\n",
        "ANS : Lists are mutable and tuples are immutable \n"
      ],
      "metadata": {
        "id": "8njUGANwK8Dv"
      }
    },
    {
      "cell_type": "markdown",
      "source": [
        "14)  How do you type a tuple value that only contains the integer 42?\n",
        "\n",
        "\n",
        "ANS : (42,) "
      ],
      "metadata": {
        "id": "Scn5lhyWLQMW"
      }
    },
    {
      "cell_type": "markdown",
      "source": [
        "15) How do you get a list value's tuple form? How do you get a tuple value's list form?\n",
        "\n",
        "\n",
        "ANS : The tuple() and list() function can be used respectively."
      ],
      "metadata": {
        "id": "T_p2JJTvLdNr"
      }
    },
    {
      "cell_type": "markdown",
      "source": [
        "16 )  Variables that \"contain\" list values are not necessarily lists themselves. Instead, what do they\n",
        "contain?\n",
        "\n",
        "\n",
        "\n",
        "ANS : They contain references to list values."
      ],
      "metadata": {
        "id": "BSj2pQ1yL2_w"
      }
    },
    {
      "cell_type": "markdown",
      "source": [
        "17 ) How do you distinguish between copy.copy() and copy.deepcopy()? \n",
        "\n",
        "\n",
        "ANS  : copy.copy() will do a shallow copy of a list and copy.deepcopy() will duplicate any lists inside the list "
      ],
      "metadata": {
        "id": "vJhU49DWMIgj"
      }
    }
  ],
  "metadata": {
    "colab": {
      "collapsed_sections": [],
      "name": "Welcome To Colaboratory",
      "provenance": []
    },
    "kernelspec": {
      "display_name": "Python 3",
      "name": "python3"
    }
  },
  "nbformat": 4,
  "nbformat_minor": 0
}