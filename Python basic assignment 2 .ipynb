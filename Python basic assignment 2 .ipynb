{
  "cells": [
    {
      "cell_type": "markdown",
      "source": [
        "1) 1.What are the two values of the Boolean data type? How do you write them? \n",
        "\n",
        "\n",
        "ANS :  The two types of boolean data types is true and false , its written as True and False "
      ],
      "metadata": {
        "id": "PlUtG72TSm8n"
      }
    },
    {
      "cell_type": "markdown",
      "source": [
        "2) What are the three different types of Boolean operators?\n",
        "\n",
        "ANS :  The three basic types of boolean operators are : AND, OR, and NOT."
      ],
      "metadata": {
        "id": "7X9tT3C7S0T4"
      }
    },
    {
      "cell_type": "markdown",
      "source": [
        "3) Make a list of each Boolean operator&#39;s truth tables"
      ],
      "metadata": {
        "id": "yWixDBMhTSuO"
      }
    },
    {
      "cell_type": "code",
      "source": [
        "print(True and True)\n",
        "print(True and False)\n",
        "print(False and True)\n",
        "print(False and False)\n",
        "print(True or True)\n",
        "print(True or False)\n",
        "print(False or True)\n",
        "print(False or False)\n",
        "print( not True)\n",
        "print(not False)\n"
      ],
      "metadata": {
        "id": "x1mrcyadTXKW",
        "outputId": "5757c56c-9ce4-4347-a73f-16e22dcf9831",
        "colab": {
          "base_uri": "https://localhost:8080/"
        }
      },
      "execution_count": 3,
      "outputs": [
        {
          "output_type": "stream",
          "name": "stdout",
          "text": [
            "True\n",
            "False\n",
            "False\n",
            "False\n",
            "True\n",
            "True\n",
            "True\n",
            "False\n",
            "False\n",
            "True\n"
          ]
        }
      ]
    },
    {
      "cell_type": "markdown",
      "source": [
        "4) What are the values of the following expressions? "
      ],
      "metadata": {
        "id": "PIAANecUUhx3"
      }
    },
    {
      "cell_type": "code",
      "source": [
        "print((5 > 4) and (3 == 5)) \n",
        "print(not (5 > 4)) \n",
        "print((5 > 4) or (3 == 5))\n",
        "print(not ((5> 4) or (3 == 5)))\n",
        "print((True and True) and (True == False))\n",
        "print((not False) or (not True))"
      ],
      "metadata": {
        "id": "-vRlHRfgUn31",
        "outputId": "796bf483-f818-4e3a-80bc-df58259ae669",
        "colab": {
          "base_uri": "https://localhost:8080/"
        }
      },
      "execution_count": 4,
      "outputs": [
        {
          "output_type": "stream",
          "name": "stdout",
          "text": [
            "False\n",
            "False\n",
            "True\n",
            "False\n",
            "False\n",
            "True\n"
          ]
        }
      ]
    },
    {
      "cell_type": "markdown",
      "source": [
        "5) What are the six comparison operators?\n",
        "\n",
        "\n",
        "ANS : less than : < ,\n",
        "      greater than : > ,\n",
        "      less than or equal to : <= ,\n",
        "      greater than or equal to : >= , \n",
        "       equal to : == , \n",
        "       not equal to : !="
      ],
      "metadata": {
        "id": "ShRbWTRHVSKV"
      }
    },
    {
      "cell_type": "markdown",
      "source": [
        "6) How do you tell the difference between the equal to and assignment operators?Describe a\n",
        "condition and when you would use one. \n",
        "\n",
        "\n",
        "ANS : '=' is assignment operator is used to assign the value on right to the variable on left . '==' is equal to , it is used to check if the values on left and right are equal or not . It will return True if equal"
      ],
      "metadata": {
        "id": "w-yIEc_iVsMC"
      }
    },
    {
      "cell_type": "code",
      "source": [
        "a = 5 \n",
        "print(a) \n",
        "print(5 ==5 )"
      ],
      "metadata": {
        "id": "mtREhrsmWpa2",
        "outputId": "f2765159-cecd-4c50-a17b-25f59882e4bf",
        "colab": {
          "base_uri": "https://localhost:8080/"
        }
      },
      "execution_count": 6,
      "outputs": [
        {
          "output_type": "stream",
          "name": "stdout",
          "text": [
            "5\n",
            "True\n"
          ]
        }
      ]
    },
    {
      "cell_type": "markdown",
      "source": [
        "7) Identify the three blocks in this code:"
      ],
      "metadata": {
        "id": "WHKJj3elWxn0"
      }
    },
    {
      "cell_type": "code",
      "source": [
        "spam = 0 \n",
        "if spam ==10:\n",
        "  print(\"eggs\")\n",
        "if spam>5:\n",
        "  print('bacon')\n",
        "else : \n",
        "  print('ham')\n",
        "print('spam')\n",
        "print('spam')"
      ],
      "metadata": {
        "id": "bW_IboG1W_gc",
        "outputId": "3aff7584-d64b-4de7-db68-6e3485465bce",
        "colab": {
          "base_uri": "https://localhost:8080/"
        }
      },
      "execution_count": 7,
      "outputs": [
        {
          "output_type": "stream",
          "name": "stdout",
          "text": [
            "ham\n",
            "spam\n",
            "spam\n"
          ]
        }
      ]
    },
    {
      "cell_type": "code",
      "source": [
        "'''8) Write code that prints Hello if 1 is stored in spam, prints Howdy if 2 is stored in spam, and prints\n",
        "#Greetings! if anything else is stored in spam.'''\n",
        "\n",
        "spam = int(input(\"enter your value:\"))\n",
        "if spam == 1:\n",
        "  print('Hello')\n",
        "elif spam == 2:\n",
        "  print('Howdy')\n",
        "else :\n",
        "  print('Greetings!')"
      ],
      "metadata": {
        "id": "_s4vYWy9YMcd",
        "outputId": "47d57494-2524-44ea-c030-ae8318fa0ac6",
        "colab": {
          "base_uri": "https://localhost:8080/"
        }
      },
      "execution_count": 12,
      "outputs": [
        {
          "output_type": "stream",
          "name": "stdout",
          "text": [
            "enter your value:1\n",
            "Hello\n"
          ]
        }
      ]
    },
    {
      "cell_type": "markdown",
      "source": [
        "9) If your programme is stuck in an endless loop, what keys you’ll press?\n",
        "\n",
        "\n",
        "ANS : CTRL+C can be used to exit the program"
      ],
      "metadata": {
        "id": "-VM7e2nAZaIc"
      }
    },
    {
      "cell_type": "markdown",
      "source": [
        "10)  How can you tell the difference between break and continue?\n",
        "\n",
        "ANS : The break is used to terminate the execution of the statements and iteration of the loop. It will move to the next statement after the loop . Whereas the continue statement will only terminate the current iteration of the loop "
      ],
      "metadata": {
        "id": "p1YUux3RaBHE"
      }
    },
    {
      "cell_type": "markdown",
      "source": [
        "11) In a for loop, what is the difference between range(10), range(0, 10), and range(0, 10, 1)?\n",
        "\n",
        "\n",
        "ANS : All three will generate a list from 0 to 9 "
      ],
      "metadata": {
        "id": "C6YAswjzamqE"
      }
    },
    {
      "cell_type": "code",
      "source": [
        "print([ i for i in range( 10)])\n",
        "print([i for i in range( 0,10)])\n",
        "print([i for i in range( 0,10,1)])"
      ],
      "metadata": {
        "id": "HAhZS-1vazwc",
        "outputId": "ff8eb7a2-1ba3-4803-ad99-dabd9262c5c3",
        "colab": {
          "base_uri": "https://localhost:8080/"
        }
      },
      "execution_count": 15,
      "outputs": [
        {
          "output_type": "stream",
          "name": "stdout",
          "text": [
            "[0, 1, 2, 3, 4, 5, 6, 7, 8, 9]\n",
            "[0, 1, 2, 3, 4, 5, 6, 7, 8, 9]\n",
            "[0, 1, 2, 3, 4, 5, 6, 7, 8, 9]\n"
          ]
        }
      ]
    },
    {
      "cell_type": "markdown",
      "source": [
        "12) Write a short program that prints the numbers 1 to 10 using a for loop. Then write an equivalent\n",
        "program that prints the numbers 1 to 10 using a while loop."
      ],
      "metadata": {
        "id": "Ix3Fsj0lbO_b"
      }
    },
    {
      "cell_type": "code",
      "source": [
        "for i in range(1,11):\n",
        "  print(i)\n"
      ],
      "metadata": {
        "id": "cXI1BtxgbWuk",
        "outputId": "00ebc5f7-046b-4d8d-8a26-44ca4e3ca98f",
        "colab": {
          "base_uri": "https://localhost:8080/"
        }
      },
      "execution_count": 16,
      "outputs": [
        {
          "output_type": "stream",
          "name": "stdout",
          "text": [
            "1\n",
            "2\n",
            "3\n",
            "4\n",
            "5\n",
            "6\n",
            "7\n",
            "8\n",
            "9\n",
            "10\n"
          ]
        }
      ]
    },
    {
      "cell_type": "code",
      "source": [
        "i = 1 \n",
        "while i <11:\n",
        "  print(i)\n",
        "  i += 1"
      ],
      "metadata": {
        "id": "1myqfil-bf4L",
        "outputId": "21ce43e8-1b8d-449c-b639-80d6540edf3f",
        "colab": {
          "base_uri": "https://localhost:8080/"
        }
      },
      "execution_count": 17,
      "outputs": [
        {
          "output_type": "stream",
          "name": "stdout",
          "text": [
            "1\n",
            "2\n",
            "3\n",
            "4\n",
            "5\n",
            "6\n",
            "7\n",
            "8\n",
            "9\n",
            "10\n"
          ]
        }
      ]
    },
    {
      "cell_type": "markdown",
      "source": [
        "13) If you had a function named bacon() inside a module named spam, how would you call it after\n",
        "importing spam?\n",
        "\n",
        "\n",
        "ANS : This function can be called with spam.bacon()"
      ],
      "metadata": {
        "id": "bMpNeYUlbqPs"
      }
    }
  ],
  "metadata": {
    "colab": {
      "collapsed_sections": [],
      "name": "Welcome To Colaboratory",
      "provenance": []
    },
    "kernelspec": {
      "display_name": "Python 3",
      "name": "python3"
    }
  },
  "nbformat": 4,
  "nbformat_minor": 0
}